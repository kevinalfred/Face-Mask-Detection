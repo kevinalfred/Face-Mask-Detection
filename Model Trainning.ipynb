{
  "nbformat": 4,
  "nbformat_minor": 0,
  "metadata": {
    "colab": {
      "name": "Untitled9.ipynb",
      "provenance": []
    },
    "kernelspec": {
      "name": "python3",
      "display_name": "Python 3"
    },
    "language_info": {
      "name": "python"
    },
    "accelerator": "GPU"
  },
  "cells": [
    {
      "cell_type": "code",
      "execution_count": 11,
      "metadata": {
        "id": "cEq9Dqie5OfZ"
      },
      "outputs": [],
      "source": [
        "import numpy as np\n",
        "import keras\n",
        "import keras.backend as k\n",
        "from keras.layers import Conv2D,MaxPooling2D,SpatialDropout2D,Flatten,Dropout,Dense\n",
        "from keras.models import Sequential,load_model\n",
        "#from keras.optimizers import Adam\n",
        "from keras.preprocessing import image\n",
        "import cv2\n",
        "import datetime\n"
      ]
    },
    {
      "cell_type": "code",
      "source": [
        "model=Sequential()\n",
        "model.add(Conv2D(32,(3,3),activation='relu',input_shape=(150,150,3)))\n",
        "model.add(MaxPooling2D() )\n",
        "model.add(Conv2D(32,(3,3),activation='relu'))\n",
        "model.add(MaxPooling2D() )\n",
        "model.add(Conv2D(32,(3,3),activation='relu'))\n",
        "model.add(MaxPooling2D() )\n",
        "model.add(Flatten())\n",
        "model.add(Dense(100,activation='relu'))\n",
        "model.add(Dense(1,activation='sigmoid'))\n",
        "\n",
        "model.compile(optimizer='adam',loss='binary_crossentropy',metrics=['accuracy'])"
      ],
      "metadata": {
        "id": "p3hU1fzg5bT5"
      },
      "execution_count": 12,
      "outputs": []
    },
    {
      "cell_type": "code",
      "source": [
        "\n",
        "from keras.preprocessing.image import ImageDataGenerator\n",
        "train_datagen = ImageDataGenerator(\n",
        "        rescale=1./255,\n",
        "        shear_range=0.2,\n",
        "        zoom_range=0.2,\n",
        "        horizontal_flip=True)"
      ],
      "metadata": {
        "id": "rmLKTyCe53l5"
      },
      "execution_count": 13,
      "outputs": []
    },
    {
      "cell_type": "code",
      "source": [
        "test_datagen = ImageDataGenerator(rescale=1./255)\n",
        "\n",
        "training_set = train_datagen.flow_from_directory(\n",
        "        '/content/drive/MyDrive/Face Mask Detection/train',\n",
        "        target_size=(150,150),\n",
        "        batch_size=16 ,\n",
        "        class_mode='binary')"
      ],
      "metadata": {
        "colab": {
          "base_uri": "https://localhost:8080/"
        },
        "id": "-YjkSmhg69ex",
        "outputId": "fab3eaf1-2ee7-403f-aefb-91138ee21058"
      },
      "execution_count": 15,
      "outputs": [
        {
          "output_type": "stream",
          "name": "stdout",
          "text": [
            "Found 1314 images belonging to 2 classes.\n"
          ]
        }
      ]
    },
    {
      "cell_type": "code",
      "source": [
        "test_set = test_datagen.flow_from_directory(\n",
        "        '/content/drive/MyDrive/Face Mask Detection/test',\n",
        "        target_size=(150,150),\n",
        "        batch_size=16,\n",
        "        class_mode='binary')"
      ],
      "metadata": {
        "colab": {
          "base_uri": "https://localhost:8080/"
        },
        "id": "PRQAuAF97B_Q",
        "outputId": "2e791fb5-b1b8-44c6-91ab-af032b2a32c3"
      },
      "execution_count": 17,
      "outputs": [
        {
          "output_type": "stream",
          "name": "stdout",
          "text": [
            "Found 194 images belonging to 2 classes.\n"
          ]
        }
      ]
    },
    {
      "cell_type": "code",
      "source": [
        "model_saved=model.fit_generator(\n",
        "        training_set,\n",
        "        epochs=10,\n",
        "        validation_data=test_set\n",
        "        )"
      ],
      "metadata": {
        "colab": {
          "base_uri": "https://localhost:8080/"
        },
        "id": "01DqJwpN7W85",
        "outputId": "dbf428b5-59bc-4295-aee7-8d05dccfe25e"
      },
      "execution_count": 18,
      "outputs": [
        {
          "metadata": {
            "tags": null
          },
          "name": "stderr",
          "output_type": "stream",
          "text": [
            "/usr/local/lib/python3.7/dist-packages/ipykernel_launcher.py:4: UserWarning: `Model.fit_generator` is deprecated and will be removed in a future version. Please use `Model.fit`, which supports generators.\n",
            "  after removing the cwd from sys.path.\n"
          ]
        },
        {
          "metadata": {
            "tags": null
          },
          "name": "stdout",
          "output_type": "stream",
          "text": [
            "Epoch 1/10\n",
            "83/83 [==============================] - 190s 2s/step - loss: 0.3451 - accuracy: 0.8303 - val_loss: 0.1528 - val_accuracy: 0.9330\n",
            "Epoch 2/10\n",
            "83/83 [==============================] - 14s 173ms/step - loss: 0.1411 - accuracy: 0.9490 - val_loss: 0.1663 - val_accuracy: 0.9381\n",
            "Epoch 3/10\n",
            "83/83 [==============================] - 15s 176ms/step - loss: 0.1202 - accuracy: 0.9597 - val_loss: 0.0849 - val_accuracy: 0.9742\n",
            "Epoch 4/10\n",
            "83/83 [==============================] - 14s 172ms/step - loss: 0.1119 - accuracy: 0.9589 - val_loss: 0.1124 - val_accuracy: 0.9485\n",
            "Epoch 5/10\n",
            "83/83 [==============================] - 15s 176ms/step - loss: 0.0824 - accuracy: 0.9688 - val_loss: 0.0754 - val_accuracy: 0.9588\n",
            "Epoch 6/10\n",
            "83/83 [==============================] - 14s 173ms/step - loss: 0.0820 - accuracy: 0.9741 - val_loss: 0.0626 - val_accuracy: 0.9691\n",
            "Epoch 7/10\n",
            "83/83 [==============================] - 14s 173ms/step - loss: 0.0813 - accuracy: 0.9718 - val_loss: 0.1510 - val_accuracy: 0.9433\n",
            "Epoch 8/10\n",
            "83/83 [==============================] - 14s 172ms/step - loss: 0.0767 - accuracy: 0.9703 - val_loss: 0.1179 - val_accuracy: 0.9536\n",
            "Epoch 9/10\n",
            "83/83 [==============================] - 14s 171ms/step - loss: 0.0634 - accuracy: 0.9779 - val_loss: 0.0782 - val_accuracy: 0.9639\n",
            "Epoch 10/10\n",
            "83/83 [==============================] - 14s 173ms/step - loss: 0.0610 - accuracy: 0.9795 - val_loss: 0.0894 - val_accuracy: 0.9794\n"
          ]
        }
      ]
    },
    {
      "cell_type": "code",
      "source": [
        "model.save('mymodel.h5',model_saved)\n"
      ],
      "metadata": {
        "id": "O6WHuj7W7lpI"
      },
      "execution_count": 19,
      "outputs": []
    },
    {
      "cell_type": "code",
      "source": [
        "mymodel=load_model('/content/mymodel.h5')\n",
        "test_image=image.load_img('/content/drive/MyDrive/Face Mask Detection/test/without_mask/10.jpg',target_size=(150,150,3))\n",
        "#test_image=image.load_img(r'/content/drive/MyDrive/Face Mask Detection/test/with_mask/1-with-mask.jpg',target_size=(150,150,3))"
      ],
      "metadata": {
        "id": "XA-Q6R-s-GlZ"
      },
      "execution_count": 23,
      "outputs": []
    },
    {
      "cell_type": "code",
      "source": [
        "test_image\n",
        "test_image=image.img_to_array(test_image)\n",
        "test_image=np.expand_dims(test_image,axis=0)\n",
        "mymodel.predict(test_image)[0][0]"
      ],
      "metadata": {
        "colab": {
          "base_uri": "https://localhost:8080/"
        },
        "id": "bypAdFQb_N5J",
        "outputId": "e91593b6-e05b-426c-fd4e-3022c5ca3157"
      },
      "execution_count": 24,
      "outputs": [
        {
          "output_type": "execute_result",
          "data": {
            "text/plain": [
              "1.0"
            ]
          },
          "metadata": {},
          "execution_count": 24
        }
      ]
    },
    {
      "cell_type": "code",
      "source": [
        ""
      ],
      "metadata": {
        "id": "v8zfOhQAAKih"
      },
      "execution_count": null,
      "outputs": []
    }
  ]
}